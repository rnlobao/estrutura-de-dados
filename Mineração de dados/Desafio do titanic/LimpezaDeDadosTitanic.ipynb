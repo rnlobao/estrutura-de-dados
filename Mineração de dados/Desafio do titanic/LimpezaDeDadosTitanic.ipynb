{
  "nbformat": 4,
  "nbformat_minor": 0,
  "metadata": {
    "colab": {
      "provenance": []
    },
    "kernelspec": {
      "name": "python3",
      "display_name": "Python 3"
    },
    "language_info": {
      "name": "python"
    }
  },
  "cells": [
    {
      "cell_type": "markdown",
      "source": [
        "#Limpeza de dados e transformação do desafio do titanic\n",
        "O desafio do Kaggle pode ser encontrado no seguinte link: https://www.kaggle.com/c/titanic\n",
        "\n",
        "Inicialmente será feita uma análise descritiva do desafio:"
      ],
      "metadata": {
        "id": "mwWRDVSMR7L0"
      }
    },
    {
      "cell_type": "markdown",
      "source": [
        "#Análise descritiva"
      ],
      "metadata": {
        "id": "i7ZIxOCWSQEk"
      }
    },
    {
      "cell_type": "markdown",
      "source": [
        "# a) Identifique os tipos de atributos (contínuos , discretos, binários (simétricos ou assimétricos), categóricos (nominais ou ordinais)). Esta classificação deve ser feita e explicada manualmente."
      ],
      "metadata": {
        "id": "dzHsVfbeYa3s"
      }
    },
    {
      "cell_type": "markdown",
      "source": [
        "*   PassengerId: representa um número único que identifica o passageiro no titanic, ele é um atributo **discreto** pois representa uma categoria específica.\n",
        "*   Survived: representa se o passageiro morreu (1) ou não (0), é uma variável **binária simétrica**, binária pois pode assumir apenas dois valores e simétrica por não possuir hierarquia entre os dois.\n",
        "*   Pclass: Representa em qual classe econômica estava o passageiro, podendo assumir 3 valores, 1st, 2nd e 3rd ou 1, 2, 3. Representa um atributo **categórico ordinal**, categórico pois rotula em diferentes classes e ordinal por haver hierarquia entre os dados.\n",
        "*   Name: Nome do tripulante, **categórico nominal** pois rotula uma pessoa mas sem distinção de hierarquia entre seus pares, apenas nomeia.\n",
        "*   Sex: Sexo do tripulante, podendo ser masulino ou feminino, ele se torna um atributo **binário simétrico**, pois pode assumir dois valores, sem hierarquia entre eles.\n",
        "* Age: Idade do tripulante, atributo **contínuo** pois pode assumir qualquer valor em um range conhecido de números reais.\n",
        "* SibSp: Quantidade de parentes, irmãos ou cônjuges abordo, é um atributo **discreto** valor contável e distinto de números inteiros não negativos.\n",
        "* Parch: Funciona como o anterior mas com o número de pais / filhos abordo, ou seja, **discreto** \n",
        "* Ticket: Número do ticket do passageiro, sem distinção pelo valor, apenas categoriza, **categórico nominal**.\n",
        "* Fare: tarifa paga pelo passageiro, atributo **contínuo** pois tem uma escala de medida em um range de valores reais.\n",
        "* Cabin: Número da cabine do passageiro, apenas rotula sem hierarquizar, então é considerado **categórico nominal**.\n",
        "* Embarked: Representa o porto de embarque do passageiro. Esse atributo é um exemplo de atributo **categórico nominal**, pois os valores possíveis são categorias distintas sem uma ordem específica."
      ],
      "metadata": {
        "id": "nvnyoHV-aHxq"
      }
    },
    {
      "cell_type": "markdown",
      "source": [
        "#b) Para atributo numérico, identifique qual o seu intervalo de valores, valor médio, máximo, mínimo, desvio-padrão e valores aberrantes. Use funcões do dataframe para isso (por exemplo, describe, mean, sum ,...). Faça gráficos estilo boxplots para visualizar os possíveis outliers. Comente os resultados."
      ],
      "metadata": {
        "id": "nvSz2OOBYWGD"
      }
    },
    {
      "cell_type": "markdown",
      "source": [
        "Inicialmente quais atributos numéricos serão levados em consideração?\n",
        "O passenger ID, ticket e a Cabin, embora sejam numéricos, os valores não representam nada, nenhuma informação seria tirada da análise dos seus valores, assim como saber o valor míninmo, máximo e etc do Survived, tendo isso em vista será feita a análise do: **Pclass, Age, SibSp, Parch e Fare.**"
      ],
      "metadata": {
        "id": "IabANEVFaWHU"
      }
    },
    {
      "cell_type": "code",
      "execution_count": 224,
      "metadata": {
        "colab": {
          "base_uri": "https://localhost:8080/",
          "height": 299
        },
        "id": "cD27VT_QR1FO",
        "outputId": "06ec7667-08bb-403e-d272-f9bac3690464"
      },
      "outputs": [
        {
          "output_type": "execute_result",
          "data": {
            "text/plain": [
              "   PassengerId  Survived  Pclass  \\\n",
              "0            1         0       3   \n",
              "1            2         1       1   \n",
              "2            3         1       3   \n",
              "3            4         1       1   \n",
              "4            5         0       3   \n",
              "\n",
              "                                                Name     Sex   Age  SibSp  \\\n",
              "0                            Braund, Mr. Owen Harris    male  22.0      1   \n",
              "1  Cumings, Mrs. John Bradley (Florence Briggs Th...  female  38.0      1   \n",
              "2                             Heikkinen, Miss. Laina  female  26.0      0   \n",
              "3       Futrelle, Mrs. Jacques Heath (Lily May Peel)  female  35.0      1   \n",
              "4                           Allen, Mr. William Henry    male  35.0      0   \n",
              "\n",
              "   Parch            Ticket     Fare Cabin Embarked  \n",
              "0      0         A/5 21171   7.2500   NaN        S  \n",
              "1      0          PC 17599  71.2833   C85        C  \n",
              "2      0  STON/O2. 3101282   7.9250   NaN        S  \n",
              "3      0            113803  53.1000  C123        S  \n",
              "4      0            373450   8.0500   NaN        S  "
            ],
            "text/html": [
              "\n",
              "  <div id=\"df-67277678-3b56-46e8-a651-1ec470e2beeb\">\n",
              "    <div class=\"colab-df-container\">\n",
              "      <div>\n",
              "<style scoped>\n",
              "    .dataframe tbody tr th:only-of-type {\n",
              "        vertical-align: middle;\n",
              "    }\n",
              "\n",
              "    .dataframe tbody tr th {\n",
              "        vertical-align: top;\n",
              "    }\n",
              "\n",
              "    .dataframe thead th {\n",
              "        text-align: right;\n",
              "    }\n",
              "</style>\n",
              "<table border=\"1\" class=\"dataframe\">\n",
              "  <thead>\n",
              "    <tr style=\"text-align: right;\">\n",
              "      <th></th>\n",
              "      <th>PassengerId</th>\n",
              "      <th>Survived</th>\n",
              "      <th>Pclass</th>\n",
              "      <th>Name</th>\n",
              "      <th>Sex</th>\n",
              "      <th>Age</th>\n",
              "      <th>SibSp</th>\n",
              "      <th>Parch</th>\n",
              "      <th>Ticket</th>\n",
              "      <th>Fare</th>\n",
              "      <th>Cabin</th>\n",
              "      <th>Embarked</th>\n",
              "    </tr>\n",
              "  </thead>\n",
              "  <tbody>\n",
              "    <tr>\n",
              "      <th>0</th>\n",
              "      <td>1</td>\n",
              "      <td>0</td>\n",
              "      <td>3</td>\n",
              "      <td>Braund, Mr. Owen Harris</td>\n",
              "      <td>male</td>\n",
              "      <td>22.0</td>\n",
              "      <td>1</td>\n",
              "      <td>0</td>\n",
              "      <td>A/5 21171</td>\n",
              "      <td>7.2500</td>\n",
              "      <td>NaN</td>\n",
              "      <td>S</td>\n",
              "    </tr>\n",
              "    <tr>\n",
              "      <th>1</th>\n",
              "      <td>2</td>\n",
              "      <td>1</td>\n",
              "      <td>1</td>\n",
              "      <td>Cumings, Mrs. John Bradley (Florence Briggs Th...</td>\n",
              "      <td>female</td>\n",
              "      <td>38.0</td>\n",
              "      <td>1</td>\n",
              "      <td>0</td>\n",
              "      <td>PC 17599</td>\n",
              "      <td>71.2833</td>\n",
              "      <td>C85</td>\n",
              "      <td>C</td>\n",
              "    </tr>\n",
              "    <tr>\n",
              "      <th>2</th>\n",
              "      <td>3</td>\n",
              "      <td>1</td>\n",
              "      <td>3</td>\n",
              "      <td>Heikkinen, Miss. Laina</td>\n",
              "      <td>female</td>\n",
              "      <td>26.0</td>\n",
              "      <td>0</td>\n",
              "      <td>0</td>\n",
              "      <td>STON/O2. 3101282</td>\n",
              "      <td>7.9250</td>\n",
              "      <td>NaN</td>\n",
              "      <td>S</td>\n",
              "    </tr>\n",
              "    <tr>\n",
              "      <th>3</th>\n",
              "      <td>4</td>\n",
              "      <td>1</td>\n",
              "      <td>1</td>\n",
              "      <td>Futrelle, Mrs. Jacques Heath (Lily May Peel)</td>\n",
              "      <td>female</td>\n",
              "      <td>35.0</td>\n",
              "      <td>1</td>\n",
              "      <td>0</td>\n",
              "      <td>113803</td>\n",
              "      <td>53.1000</td>\n",
              "      <td>C123</td>\n",
              "      <td>S</td>\n",
              "    </tr>\n",
              "    <tr>\n",
              "      <th>4</th>\n",
              "      <td>5</td>\n",
              "      <td>0</td>\n",
              "      <td>3</td>\n",
              "      <td>Allen, Mr. William Henry</td>\n",
              "      <td>male</td>\n",
              "      <td>35.0</td>\n",
              "      <td>0</td>\n",
              "      <td>0</td>\n",
              "      <td>373450</td>\n",
              "      <td>8.0500</td>\n",
              "      <td>NaN</td>\n",
              "      <td>S</td>\n",
              "    </tr>\n",
              "  </tbody>\n",
              "</table>\n",
              "</div>\n",
              "      <button class=\"colab-df-convert\" onclick=\"convertToInteractive('df-67277678-3b56-46e8-a651-1ec470e2beeb')\"\n",
              "              title=\"Convert this dataframe to an interactive table.\"\n",
              "              style=\"display:none;\">\n",
              "        \n",
              "  <svg xmlns=\"http://www.w3.org/2000/svg\" height=\"24px\"viewBox=\"0 0 24 24\"\n",
              "       width=\"24px\">\n",
              "    <path d=\"M0 0h24v24H0V0z\" fill=\"none\"/>\n",
              "    <path d=\"M18.56 5.44l.94 2.06.94-2.06 2.06-.94-2.06-.94-.94-2.06-.94 2.06-2.06.94zm-11 1L8.5 8.5l.94-2.06 2.06-.94-2.06-.94L8.5 2.5l-.94 2.06-2.06.94zm10 10l.94 2.06.94-2.06 2.06-.94-2.06-.94-.94-2.06-.94 2.06-2.06.94z\"/><path d=\"M17.41 7.96l-1.37-1.37c-.4-.4-.92-.59-1.43-.59-.52 0-1.04.2-1.43.59L10.3 9.45l-7.72 7.72c-.78.78-.78 2.05 0 2.83L4 21.41c.39.39.9.59 1.41.59.51 0 1.02-.2 1.41-.59l7.78-7.78 2.81-2.81c.8-.78.8-2.07 0-2.86zM5.41 20L4 18.59l7.72-7.72 1.47 1.35L5.41 20z\"/>\n",
              "  </svg>\n",
              "      </button>\n",
              "      \n",
              "  <style>\n",
              "    .colab-df-container {\n",
              "      display:flex;\n",
              "      flex-wrap:wrap;\n",
              "      gap: 12px;\n",
              "    }\n",
              "\n",
              "    .colab-df-convert {\n",
              "      background-color: #E8F0FE;\n",
              "      border: none;\n",
              "      border-radius: 50%;\n",
              "      cursor: pointer;\n",
              "      display: none;\n",
              "      fill: #1967D2;\n",
              "      height: 32px;\n",
              "      padding: 0 0 0 0;\n",
              "      width: 32px;\n",
              "    }\n",
              "\n",
              "    .colab-df-convert:hover {\n",
              "      background-color: #E2EBFA;\n",
              "      box-shadow: 0px 1px 2px rgba(60, 64, 67, 0.3), 0px 1px 3px 1px rgba(60, 64, 67, 0.15);\n",
              "      fill: #174EA6;\n",
              "    }\n",
              "\n",
              "    [theme=dark] .colab-df-convert {\n",
              "      background-color: #3B4455;\n",
              "      fill: #D2E3FC;\n",
              "    }\n",
              "\n",
              "    [theme=dark] .colab-df-convert:hover {\n",
              "      background-color: #434B5C;\n",
              "      box-shadow: 0px 1px 3px 1px rgba(0, 0, 0, 0.15);\n",
              "      filter: drop-shadow(0px 1px 2px rgba(0, 0, 0, 0.3));\n",
              "      fill: #FFFFFF;\n",
              "    }\n",
              "  </style>\n",
              "\n",
              "      <script>\n",
              "        const buttonEl =\n",
              "          document.querySelector('#df-67277678-3b56-46e8-a651-1ec470e2beeb button.colab-df-convert');\n",
              "        buttonEl.style.display =\n",
              "          google.colab.kernel.accessAllowed ? 'block' : 'none';\n",
              "\n",
              "        async function convertToInteractive(key) {\n",
              "          const element = document.querySelector('#df-67277678-3b56-46e8-a651-1ec470e2beeb');\n",
              "          const dataTable =\n",
              "            await google.colab.kernel.invokeFunction('convertToInteractive',\n",
              "                                                     [key], {});\n",
              "          if (!dataTable) return;\n",
              "\n",
              "          const docLinkHtml = 'Like what you see? Visit the ' +\n",
              "            '<a target=\"_blank\" href=https://colab.research.google.com/notebooks/data_table.ipynb>data table notebook</a>'\n",
              "            + ' to learn more about interactive tables.';\n",
              "          element.innerHTML = '';\n",
              "          dataTable['output_type'] = 'display_data';\n",
              "          await google.colab.output.renderOutput(dataTable, element);\n",
              "          const docLink = document.createElement('div');\n",
              "          docLink.innerHTML = docLinkHtml;\n",
              "          element.appendChild(docLink);\n",
              "        }\n",
              "      </script>\n",
              "    </div>\n",
              "  </div>\n",
              "  "
            ]
          },
          "metadata": {},
          "execution_count": 224
        }
      ],
      "source": [
        "import pandas as pd\n",
        "import matplotlib.pyplot as plt\n",
        "import numpy as np\n",
        "from scipy.stats import zscore\n",
        "from sklearn.preprocessing import OneHotEncoder, MinMaxScaler\n",
        "\n",
        "dataframe = pd.read_csv('train.csv')\n",
        "dataframe.head()"
      ]
    },
    {
      "cell_type": "code",
      "source": [
        "def criarGrafico(coluna):\n",
        "  plt.figure(figsize=(6, 4))\n",
        "  plt.boxplot(dataframe[coluna], vert=False)\n",
        "\n",
        "  plt.title(f'Boxplot da coluna {coluna}')\n",
        "  plt.xlabel('Valor')\n",
        "  plt.ylabel('')\n",
        "\n",
        "  plt.show()\n"
      ],
      "metadata": {
        "id": "xXI5vTnTgW-3"
      },
      "execution_count": 211,
      "outputs": []
    },
    {
      "cell_type": "code",
      "source": [
        "def criarInformacoesNumericas(nomeDoAtributo):\n",
        "  print(f'INFORMAÇÕES SOBRE: {nomeDoAtributo}')\n",
        "\n",
        "  atributo = dataframe[nomeDoAtributo].describe()\n",
        "  valorMinimo = atributo['min']\n",
        "  valorMaximo = atributo['max']\n",
        "  valorMedio = atributo['mean']\n",
        "  desvioPadrao = atributo['std']\n",
        "\n",
        "  print(f'Intervalor de valores: entre {valorMinimo} e {valorMaximo}\\nValor mínimo: {valorMinimo}\\nValor máximo: {valorMaximo}\\nValor médio: {valorMedio}\\nDesvio padrao: {desvioPadrao}\\n\\n')\n",
        "\n",
        "  criarGrafico(coluna=nomeDoAtributo)\n",
        "\n",
        "  print(\"\\nIdentificando Valores aberrantes usando Z-score\")\n",
        "  coluna_zscore = np.abs(zscore(dataframe[nomeDoAtributo]))\n",
        "  limite_zscore = 3\n",
        "  outliers = dataframe[coluna_zscore > limite_zscore]\n",
        "\n",
        "  for indice, linha in outliers.iterrows():\n",
        "    print(f\"Id: {linha['PassengerId']}, Valor: {linha[nomeDoAtributo]}\")\n",
        "\n",
        "  print(\"=====================\\n\\n\")\n",
        "\n"
      ],
      "metadata": {
        "id": "UnvJk-2gb-MZ"
      },
      "execution_count": 212,
      "outputs": []
    },
    {
      "cell_type": "markdown",
      "source": [
        "O método utilizado para encontrar valores aberrantes foi o z - score, que de acordo com um número setado, no caso 3, ele averigua se está distante da média, ou seja, nesse caso ele vê, se o valor dado estiver **3 desvios padrões** distante da média ele é considerado outlier."
      ],
      "metadata": {
        "id": "SPAVMMswm0Su"
      }
    },
    {
      "cell_type": "code",
      "source": [
        "criarInformacoesNumericas(\"Pclass\")\n",
        "criarInformacoesNumericas(\"Age\")\n",
        "criarInformacoesNumericas(\"SibSp\")\n",
        "criarInformacoesNumericas(\"Parch\")\n",
        "criarInformacoesNumericas(\"Fare\")"
      ],
      "metadata": {
        "colab": {
          "base_uri": "https://localhost:8080/",
          "height": 1000
        },
        "id": "OQjWn9rBifSC",
        "outputId": "d196a724-71d5-49eb-c176-4a608f80d4aa"
      },
      "execution_count": 213,
      "outputs": [
        {
          "output_type": "stream",
          "name": "stdout",
          "text": [
            "INFORMAÇÕES SOBRE: Pclass\n",
            "Intervalor de valores: entre 1.0 e 3.0\n",
            "Valor mínimo: 1.0\n",
            "Valor máximo: 3.0\n",
            "Valor médio: 2.308641975308642\n",
            "Desvio padrao: 0.836071240977049\n",
            "\n",
            "\n"
          ]
        },
        {
          "output_type": "display_data",
          "data": {
            "text/plain": [
              "<Figure size 600x400 with 1 Axes>"
            ],
            "image/png": "[encoded data removed]"
          },
          "metadata": {}
        },
        {
          "output_type": "stream",
          "name": "stdout",
          "text": [
            "\n",
            "Identificando Valores aberrantes usando Z-score\n",
            "=====================\n",
            "\n",
            "\n",
            "INFORMAÇÕES SOBRE: Age\n",
            "Intervalor de valores: entre 0.42 e 80.0\n",
            "Valor mínimo: 0.42\n",
            "Valor máximo: 80.0\n",
            "Valor médio: 29.69911764705882\n",
            "Desvio padrao: 14.526497332334042\n",
            "\n",
            "\n"
          ]
        },
        {
          "output_type": "display_data",
          "data": {
            "text/plain": [
              "<Figure size 600x400 with 1 Axes>"
            ],
            "image/png": "[encoded data removed]"
          },
          "metadata": {}
        },
        {
          "output_type": "stream",
          "name": "stdout",
          "text": [
            "\n",
            "Identificando Valores aberrantes usando Z-score\n",
            "=====================\n",
            "\n",
            "\n",
            "INFORMAÇÕES SOBRE: SibSp\n",
            "Intervalor de valores: entre 0.0 e 8.0\n",
            "Valor mínimo: 0.0\n",
            "Valor máximo: 8.0\n",
            "Valor médio: 0.5230078563411896\n",
            "Desvio padrao: 1.1027434322934317\n",
            "\n",
            "\n"
          ]
        },
        {
          "output_type": "display_data",
          "data": {
            "text/plain": [
              "<Figure size 600x400 with 1 Axes>"
            ],
            "image/png": "[encoded data removed]"
          },
          "metadata": {}
        },
        {
          "output_type": "stream",
          "name": "stdout",
          "text": [
            "\n",
            "Identificando Valores aberrantes usando Z-score\n",
            "Id: 17, Valor: 4\n",
            "Id: 51, Valor: 4\n",
            "Id: 60, Valor: 5\n",
            "Id: 69, Valor: 4\n",
            "Id: 72, Valor: 5\n",
            "Id: 120, Valor: 4\n",
            "Id: 160, Valor: 8\n",
            "Id: 165, Valor: 4\n",
            "Id: 172, Valor: 4\n",
            "Id: 181, Valor: 8\n",
            "Id: 183, Valor: 4\n",
            "Id: 202, Valor: 8\n",
            "Id: 234, Valor: 4\n",
            "Id: 262, Valor: 4\n",
            "Id: 267, Valor: 4\n",
            "Id: 279, Valor: 4\n",
            "Id: 325, Valor: 8\n",
            "Id: 387, Valor: 5\n",
            "Id: 481, Valor: 5\n",
            "Id: 542, Valor: 4\n",
            "Id: 543, Valor: 4\n",
            "Id: 684, Valor: 5\n",
            "Id: 687, Valor: 4\n",
            "Id: 788, Valor: 4\n",
            "Id: 793, Valor: 8\n",
            "Id: 814, Valor: 4\n",
            "Id: 825, Valor: 4\n",
            "Id: 847, Valor: 8\n",
            "Id: 851, Valor: 4\n",
            "Id: 864, Valor: 8\n",
            "=====================\n",
            "\n",
            "\n",
            "INFORMAÇÕES SOBRE: Parch\n",
            "Intervalor de valores: entre 0.0 e 6.0\n",
            "Valor mínimo: 0.0\n",
            "Valor máximo: 6.0\n",
            "Valor médio: 0.38159371492704824\n",
            "Desvio padrao: 0.8060572211299483\n",
            "\n",
            "\n"
          ]
        },
        {
          "output_type": "display_data",
          "data": {
            "text/plain": [
              "<Figure size 600x400 with 1 Axes>"
            ],
            "image/png": "[encoded data removed]"
          },
          "metadata": {}
        },
        {
          "output_type": "stream",
          "name": "stdout",
          "text": [
            "\n",
            "Identificando Valores aberrantes usando Z-score\n",
            "Id: 14, Valor: 5\n",
            "Id: 26, Valor: 5\n",
            "Id: 87, Valor: 3\n",
            "Id: 168, Valor: 4\n",
            "Id: 361, Valor: 4\n",
            "Id: 438, Valor: 3\n",
            "Id: 439, Valor: 4\n",
            "Id: 568, Valor: 4\n",
            "Id: 611, Valor: 5\n",
            "Id: 639, Valor: 5\n",
            "Id: 679, Valor: 6\n",
            "Id: 737, Valor: 3\n",
            "Id: 775, Valor: 3\n",
            "Id: 859, Valor: 3\n",
            "Id: 886, Valor: 5\n",
            "=====================\n",
            "\n",
            "\n",
            "INFORMAÇÕES SOBRE: Fare\n",
            "Intervalor de valores: entre 0.0 e 512.3292\n",
            "Valor mínimo: 0.0\n",
            "Valor máximo: 512.3292\n",
            "Valor médio: 32.204207968574636\n",
            "Desvio padrao: 49.6934285971809\n",
            "\n",
            "\n"
          ]
        },
        {
          "output_type": "display_data",
          "data": {
            "text/plain": [
              "<Figure size 600x400 with 1 Axes>"
            ],
            "image/png": "[encoded data removed]"
          },
          "metadata": {}
        },
        {
          "output_type": "stream",
          "name": "stdout",
          "text": [
            "\n",
            "Identificando Valores aberrantes usando Z-score\n",
            "Id: 28, Valor: 263.0\n",
            "Id: 89, Valor: 263.0\n",
            "Id: 119, Valor: 247.5208\n",
            "Id: 259, Valor: 512.3292\n",
            "Id: 300, Valor: 247.5208\n",
            "Id: 312, Valor: 262.375\n",
            "Id: 342, Valor: 263.0\n",
            "Id: 378, Valor: 211.5\n",
            "Id: 381, Valor: 227.525\n",
            "Id: 439, Valor: 263.0\n",
            "Id: 528, Valor: 221.7792\n",
            "Id: 558, Valor: 227.525\n",
            "Id: 680, Valor: 512.3292\n",
            "Id: 690, Valor: 211.3375\n",
            "Id: 701, Valor: 227.525\n",
            "Id: 717, Valor: 227.525\n",
            "Id: 731, Valor: 211.3375\n",
            "Id: 738, Valor: 512.3292\n",
            "Id: 743, Valor: 262.375\n",
            "Id: 780, Valor: 211.3375\n",
            "=====================\n",
            "\n",
            "\n"
          ]
        }
      ]
    },
    {
      "cell_type": "markdown",
      "source": [
        "Para os plots de idade e classe não foram encontrados valores aberrantes, a classe realmente não existiria, por estar limitado a um intervalo de valores.\n",
        "\n",
        "\n",
        "*   Sobre o fare, achamos alguns valores bem distantes da média, no intervalo entre 200-300 e um sendo até 500.\n",
        "*   Sobre o Parch, os valores mais distantes sondavam 3 até 6 filhos, ou pais no caso\n",
        "* E sobre o Sibsb os valores aberrantes estiveram entre 4 e 8 irmão ou cônjuges abordo do navio.\n",
        "\n"
      ],
      "metadata": {
        "id": "Aza1AgpUnJSH"
      }
    },
    {
      "cell_type": "markdown",
      "source": [
        "# c) Para os atributos binários, nominais e ordinais, indique quais os valores possíveis e a popularidade (distribuição de probabilidade) de cada."
      ],
      "metadata": {
        "id": "X6YEvc1ooGLK"
      }
    },
    {
      "cell_type": "markdown",
      "source": [
        "Os atributos binários que iremos explorar é Survived (0 se nao morreu e 1 se morreu) e Sex (male para homem e female para mulher)."
      ],
      "metadata": {
        "id": "DF-ak4u0omVB"
      }
    },
    {
      "cell_type": "code",
      "source": [
        "def distribuicaoDeProbabilidade(atributo):\n",
        "  distribuicao = dataframe[atributo].value_counts(normalize=True)\n",
        "  print(distribuicao)\n",
        "  print(\"\\n\\n\")\n"
      ],
      "metadata": {
        "id": "7NzF5QfUorqC"
      },
      "execution_count": 214,
      "outputs": []
    },
    {
      "cell_type": "code",
      "source": [
        "distribuicaoDeProbabilidade(\"Sex\")\n",
        "distribuicaoDeProbabilidade(\"Survived\")"
      ],
      "metadata": {
        "colab": {
          "base_uri": "https://localhost:8080/"
        },
        "id": "GL3IbrW-pI89",
        "outputId": "47941384-7b92-4380-8f86-7ea018b29b7c"
      },
      "execution_count": 215,
      "outputs": [
        {
          "output_type": "stream",
          "name": "stdout",
          "text": [
            "male      0.647587\n",
            "female    0.352413\n",
            "Name: Sex, dtype: float64\n",
            "\n",
            "\n",
            "\n",
            "0    0.616162\n",
            "1    0.383838\n",
            "Name: Survived, dtype: float64\n",
            "\n",
            "\n",
            "\n"
          ]
        }
      ]
    },
    {
      "cell_type": "markdown",
      "source": [
        "#d) Identifique os valores ausentes (isna ou isnull), aberrantes e inconsistências."
      ],
      "metadata": {
        "id": "VmssnSSmpizR"
      }
    },
    {
      "cell_type": "code",
      "source": [
        "def valoresInconsistentes():\n",
        "  valores_ausentes = dataframe.isnull().sum()\n",
        "\n",
        "  colunas_desejadas = ['Pclass', 'Age', 'SibSp', 'Parch', 'Fare']\n",
        "  dataframe_filtrado = dataframe[colunas_desejadas]\n",
        "\n",
        "  coluna_zscore = np.abs(zscore(dataframe_filtrado))\n",
        "  limite_zscore = 3\n",
        "  outliers = (coluna_zscore > limite_zscore)\n",
        "\n",
        "  quantidade_outliers = outliers.sum()\n",
        "\n",
        "  tabela = pd.DataFrame({'Aberrantes': quantidade_outliers, 'Valores Ausentes': valores_ausentes})\n",
        "  tabela['Aberrantes'] = tabela['Aberrantes'].replace(np.nan, 0)\n",
        "\n",
        "  print(tabela)\n",
        "\n",
        "valoresInconsistentes()"
      ],
      "metadata": {
        "colab": {
          "base_uri": "https://localhost:8080/"
        },
        "id": "c9iFl-57qEc-",
        "outputId": "d815d149-56cf-4c1b-aa66-36856a75c237"
      },
      "execution_count": 216,
      "outputs": [
        {
          "output_type": "stream",
          "name": "stdout",
          "text": [
            "             Aberrantes  Valores Ausentes\n",
            "Age                 0.0               177\n",
            "Cabin               0.0               687\n",
            "Embarked            0.0                 2\n",
            "Fare               20.0                 0\n",
            "Name                0.0                 0\n",
            "Parch              15.0                 0\n",
            "PassengerId         0.0                 0\n",
            "Pclass              0.0                 0\n",
            "Sex                 0.0                 0\n",
            "SibSp              30.0                 0\n",
            "Survived            0.0                 0\n",
            "Ticket              0.0                 0\n"
          ]
        }
      ]
    },
    {
      "cell_type": "markdown",
      "source": [
        "# e) Verifique e comente a correlação entre os atributos numéricos (corr).\n",
        "\n"
      ],
      "metadata": {
        "id": "awYd6gZ-290q"
      }
    },
    {
      "cell_type": "code",
      "source": [
        "colunas_desejadas = ['Pclass', 'Age', 'SibSp', 'Parch', 'Fare']\n",
        "dataframe_filtrado = dataframe[colunas_desejadas]\n",
        "\n",
        "correlation_matrix = dataframe_filtrado.corr()\n",
        "print(correlation_matrix)\n"
      ],
      "metadata": {
        "colab": {
          "base_uri": "https://localhost:8080/"
        },
        "id": "uqhx3QPs3N8T",
        "outputId": "3b25abda-6cb6-4b93-a171-7fc52fc052c8"
      },
      "execution_count": 217,
      "outputs": [
        {
          "output_type": "stream",
          "name": "stdout",
          "text": [
            "          Pclass       Age     SibSp     Parch      Fare\n",
            "Pclass  1.000000 -0.369226  0.083081  0.018443 -0.549500\n",
            "Age    -0.369226  1.000000 -0.308247 -0.189119  0.096067\n",
            "SibSp   0.083081 -0.308247  1.000000  0.414838  0.159651\n",
            "Parch   0.018443 -0.189119  0.414838  1.000000  0.216225\n",
            "Fare   -0.549500  0.096067  0.159651  0.216225  1.000000\n"
          ]
        }
      ]
    },
    {
      "cell_type": "markdown",
      "source": [
        "A matriz de correlação é uma tabela quadrada, em que os valores na diagonal principal representam a correlação de cada atributo consigo mesmo (que é sempre 1.0). Os valores fora da diagonal principal indicam a correlação entre pares de atributos.\n",
        "\n",
        "Você pode interpretar os valores da matriz de correlação da seguinte forma:\n",
        "\n",
        "Valores próximos a 1.0 indicam uma correlação positiva forte.\n",
        "Valores próximos a -1.0 indicam uma correlação negativa forte.\n",
        "Valores próximos a 0 indicam uma correlação fraca ou nenhuma correlação."
      ],
      "metadata": {
        "id": "voe6t7eS3i9b"
      }
    },
    {
      "cell_type": "markdown",
      "source": [
        "#Limpeza de dados e transformação"
      ],
      "metadata": {
        "id": "ULjqKoxV3xzX"
      }
    },
    {
      "cell_type": "markdown",
      "source": [
        "#a) Preencha os valores ausentes (Tente atribuir o valor mais provável)."
      ],
      "metadata": {
        "id": "UEowkOEO37TQ"
      }
    },
    {
      "cell_type": "code",
      "source": [
        "# Para a idade, atribuirei a média nos valores faltantes\n",
        "dataframe['Age'].fillna(dataframe['Age'].mean(), inplace=True)\n",
        "\n",
        "# Como a cabin não há relacao entre os atributos la dentro, sera preenchido com a moda entre os valores\n",
        "dataframe['Cabin'].fillna(dataframe['Cabin'].mode()[0], inplace=True)\n",
        "\n",
        "# Mesmo esquema para o Embarked\n",
        "dataframe['Embarked'].fillna(dataframe['Embarked'].mode()[0], inplace=True)\n",
        "valoresInconsistentes()\n"
      ],
      "metadata": {
        "colab": {
          "base_uri": "https://localhost:8080/"
        },
        "id": "o2jHmK2P4UD6",
        "outputId": "7bda0852-fbdb-45f1-a4bf-3dd83eb5fc35"
      },
      "execution_count": 218,
      "outputs": [
        {
          "output_type": "stream",
          "name": "stdout",
          "text": [
            "             Aberrantes  Valores Ausentes\n",
            "Age                 7.0                 0\n",
            "Cabin               0.0                 0\n",
            "Embarked            0.0                 0\n",
            "Fare               20.0                 0\n",
            "Name                0.0                 0\n",
            "Parch              15.0                 0\n",
            "PassengerId         0.0                 0\n",
            "Pclass              0.0                 0\n",
            "Sex                 0.0                 0\n",
            "SibSp              30.0                 0\n",
            "Survived            0.0                 0\n",
            "Ticket              0.0                 0\n"
          ]
        }
      ]
    },
    {
      "cell_type": "markdown",
      "source": [
        "#b) Suavize os ruídos (use o qcut ou cut para dividir os bins)."
      ],
      "metadata": {
        "id": "2wJjQgH87OOU"
      }
    },
    {
      "cell_type": "code",
      "source": [
        "# Vou suavizar os atributos Fare, age usando a média móvel e intervalos pré definidos\n",
        "\n",
        "def suavizarMediaMovel():\n",
        "  janela = 20\n",
        "  dataframe['Age'] = dataframe['Age'].rolling(window=janela, min_periods=1).mean()\n",
        "  dataframe['Fare'] = dataframe['Fare'].rolling(window=janela, min_periods=1).mean()\n",
        "\n",
        "def suavizarComIntervalo():\n",
        "  binsIdade = [0, 18, 30, 50, float('inf')]\n",
        "  labelsIdade = ['0-17', '18-29', '30-49', '50+']\n",
        "\n",
        "  binsFare = [0, 50, 100, 150, 200, 300, float('inf')]\n",
        "  labelsFare = ['0-50', '50-100', '100-150', '150-200', '200-300', '300+']\n",
        "\n",
        "  dataframe['Faixa Etária'] = pd.cut(dataframe['Age'], bins=binsIdade, labels=labelsIdade, right=False)\n",
        "  dataframe['Faixa Fare'] = pd.cut(dataframe['Fare'], bins=binsFare, labels=labelsFare, right=False)\n",
        "\n",
        "suavizarMediaMovel()\n",
        "# suavizarComIntervalo()\n",
        "# valoresInconsistentes()\n",
        "dataframe.head()\n",
        "\n"
      ],
      "metadata": {
        "colab": {
          "base_uri": "https://localhost:8080/",
          "height": 540
        },
        "id": "bF3DT7jS72JY",
        "outputId": "7f6da5cb-6d04-4c94-99b3-2729bbdf277e"
      },
      "execution_count": 219,
      "outputs": [
        {
          "output_type": "execute_result",
          "data": {
            "text/plain": [
              "   PassengerId  Survived  Pclass  \\\n",
              "0            1         0       3   \n",
              "1            2         1       1   \n",
              "2            3         1       3   \n",
              "3            4         1       1   \n",
              "4            5         0       3   \n",
              "\n",
              "                                                Name     Sex        Age  \\\n",
              "0                            Braund, Mr. Owen Harris    male  22.000000   \n",
              "1  Cumings, Mrs. John Bradley (Florence Briggs Th...  female  30.000000   \n",
              "2                             Heikkinen, Miss. Laina  female  28.666667   \n",
              "3       Futrelle, Mrs. Jacques Heath (Lily May Peel)  female  30.250000   \n",
              "4                           Allen, Mr. William Henry    male  31.200000   \n",
              "\n",
              "   SibSp  Parch            Ticket       Fare    Cabin Embarked  \n",
              "0      1      0         A/5 21171   7.250000  B96 B98        S  \n",
              "1      1      0          PC 17599  39.266650      C85        C  \n",
              "2      0      0  STON/O2. 3101282  28.819433  B96 B98        S  \n",
              "3      1      0            113803  34.889575     C123        S  \n",
              "4      0      0            373450  29.521660  B96 B98        S  "
            ],
            "text/html": [
              "\n",
              "  <div id=\"df-7032bdfe-e4ee-4e81-8b37-43e787fdd01c\">\n",
              "    <div class=\"colab-df-container\">\n",
              "      <div>\n",
              "<style scoped>\n",
              "    .dataframe tbody tr th:only-of-type {\n",
              "        vertical-align: middle;\n",
              "    }\n",
              "\n",
              "    .dataframe tbody tr th {\n",
              "        vertical-align: top;\n",
              "    }\n",
              "\n",
              "    .dataframe thead th {\n",
              "        text-align: right;\n",
              "    }\n",
              "</style>\n",
              "<table border=\"1\" class=\"dataframe\">\n",
              "  <thead>\n",
              "    <tr style=\"text-align: right;\">\n",
              "      <th></th>\n",
              "      <th>PassengerId</th>\n",
              "      <th>Survived</th>\n",
              "      <th>Pclass</th>\n",
              "      <th>Name</th>\n",
              "      <th>Sex</th>\n",
              "      <th>Age</th>\n",
              "      <th>SibSp</th>\n",
              "      <th>Parch</th>\n",
              "      <th>Ticket</th>\n",
              "      <th>Fare</th>\n",
              "      <th>Cabin</th>\n",
              "      <th>Embarked</th>\n",
              "    </tr>\n",
              "  </thead>\n",
              "  <tbody>\n",
              "    <tr>\n",
              "      <th>0</th>\n",
              "      <td>1</td>\n",
              "      <td>0</td>\n",
              "      <td>3</td>\n",
              "      <td>Braund, Mr. Owen Harris</td>\n",
              "      <td>male</td>\n",
              "      <td>22.000000</td>\n",
              "      <td>1</td>\n",
              "      <td>0</td>\n",
              "      <td>A/5 21171</td>\n",
              "      <td>7.250000</td>\n",
              "      <td>B96 B98</td>\n",
              "      <td>S</td>\n",
              "    </tr>\n",
              "    <tr>\n",
              "      <th>1</th>\n",
              "      <td>2</td>\n",
              "      <td>1</td>\n",
              "      <td>1</td>\n",
              "      <td>Cumings, Mrs. John Bradley (Florence Briggs Th...</td>\n",
              "      <td>female</td>\n",
              "      <td>30.000000</td>\n",
              "      <td>1</td>\n",
              "      <td>0</td>\n",
              "      <td>PC 17599</td>\n",
              "      <td>39.266650</td>\n",
              "      <td>C85</td>\n",
              "      <td>C</td>\n",
              "    </tr>\n",
              "    <tr>\n",
              "      <th>2</th>\n",
              "      <td>3</td>\n",
              "      <td>1</td>\n",
              "      <td>3</td>\n",
              "      <td>Heikkinen, Miss. Laina</td>\n",
              "      <td>female</td>\n",
              "      <td>28.666667</td>\n",
              "      <td>0</td>\n",
              "      <td>0</td>\n",
              "      <td>STON/O2. 3101282</td>\n",
              "      <td>28.819433</td>\n",
              "      <td>B96 B98</td>\n",
              "      <td>S</td>\n",
              "    </tr>\n",
              "    <tr>\n",
              "      <th>3</th>\n",
              "      <td>4</td>\n",
              "      <td>1</td>\n",
              "      <td>1</td>\n",
              "      <td>Futrelle, Mrs. Jacques Heath (Lily May Peel)</td>\n",
              "      <td>female</td>\n",
              "      <td>30.250000</td>\n",
              "      <td>1</td>\n",
              "      <td>0</td>\n",
              "      <td>113803</td>\n",
              "      <td>34.889575</td>\n",
              "      <td>C123</td>\n",
              "      <td>S</td>\n",
              "    </tr>\n",
              "    <tr>\n",
              "      <th>4</th>\n",
              "      <td>5</td>\n",
              "      <td>0</td>\n",
              "      <td>3</td>\n",
              "      <td>Allen, Mr. William Henry</td>\n",
              "      <td>male</td>\n",
              "      <td>31.200000</td>\n",
              "      <td>0</td>\n",
              "      <td>0</td>\n",
              "      <td>373450</td>\n",
              "      <td>29.521660</td>\n",
              "      <td>B96 B98</td>\n",
              "      <td>S</td>\n",
              "    </tr>\n",
              "  </tbody>\n",
              "</table>\n",
              "</div>\n",
              "      <button class=\"colab-df-convert\" onclick=\"convertToInteractive('df-7032bdfe-e4ee-4e81-8b37-43e787fdd01c')\"\n",
              "              title=\"Convert this dataframe to an interactive table.\"\n",
              "              style=\"display:none;\">\n",
              "        \n",
              "  <svg xmlns=\"http://www.w3.org/2000/svg\" height=\"24px\"viewBox=\"0 0 24 24\"\n",
              "       width=\"24px\">\n",
              "    <path d=\"M0 0h24v24H0V0z\" fill=\"none\"/>\n",
              "    <path d=\"M18.56 5.44l.94 2.06.94-2.06 2.06-.94-2.06-.94-.94-2.06-.94 2.06-2.06.94zm-11 1L8.5 8.5l.94-2.06 2.06-.94-2.06-.94L8.5 2.5l-.94 2.06-2.06.94zm10 10l.94 2.06.94-2.06 2.06-.94-2.06-.94-.94-2.06-.94 2.06-2.06.94z\"/><path d=\"M17.41 7.96l-1.37-1.37c-.4-.4-.92-.59-1.43-.59-.52 0-1.04.2-1.43.59L10.3 9.45l-7.72 7.72c-.78.78-.78 2.05 0 2.83L4 21.41c.39.39.9.59 1.41.59.51 0 1.02-.2 1.41-.59l7.78-7.78 2.81-2.81c.8-.78.8-2.07 0-2.86zM5.41 20L4 18.59l7.72-7.72 1.47 1.35L5.41 20z\"/>\n",
              "  </svg>\n",
              "      </button>\n",
              "      \n",
              "  <style>\n",
              "    .colab-df-container {\n",
              "      display:flex;\n",
              "      flex-wrap:wrap;\n",
              "      gap: 12px;\n",
              "    }\n",
              "\n",
              "    .colab-df-convert {\n",
              "      background-color: #E8F0FE;\n",
              "      border: none;\n",
              "      border-radius: 50%;\n",
              "      cursor: pointer;\n",
              "      display: none;\n",
              "      fill: #1967D2;\n",
              "      height: 32px;\n",
              "      padding: 0 0 0 0;\n",
              "      width: 32px;\n",
              "    }\n",
              "\n",
              "    .colab-df-convert:hover {\n",
              "      background-color: #E2EBFA;\n",
              "      box-shadow: 0px 1px 2px rgba(60, 64, 67, 0.3), 0px 1px 3px 1px rgba(60, 64, 67, 0.15);\n",
              "      fill: #174EA6;\n",
              "    }\n",
              "\n",
              "    [theme=dark] .colab-df-convert {\n",
              "      background-color: #3B4455;\n",
              "      fill: #D2E3FC;\n",
              "    }\n",
              "\n",
              "    [theme=dark] .colab-df-convert:hover {\n",
              "      background-color: #434B5C;\n",
              "      box-shadow: 0px 1px 3px 1px rgba(0, 0, 0, 0.15);\n",
              "      filter: drop-shadow(0px 1px 2px rgba(0, 0, 0, 0.3));\n",
              "      fill: #FFFFFF;\n",
              "    }\n",
              "  </style>\n",
              "\n",
              "      <script>\n",
              "        const buttonEl =\n",
              "          document.querySelector('#df-7032bdfe-e4ee-4e81-8b37-43e787fdd01c button.colab-df-convert');\n",
              "        buttonEl.style.display =\n",
              "          google.colab.kernel.accessAllowed ? 'block' : 'none';\n",
              "\n",
              "        async function convertToInteractive(key) {\n",
              "          const element = document.querySelector('#df-7032bdfe-e4ee-4e81-8b37-43e787fdd01c');\n",
              "          const dataTable =\n",
              "            await google.colab.kernel.invokeFunction('convertToInteractive',\n",
              "                                                     [key], {});\n",
              "          if (!dataTable) return;\n",
              "\n",
              "          const docLinkHtml = 'Like what you see? Visit the ' +\n",
              "            '<a target=\"_blank\" href=https://colab.research.google.com/notebooks/data_table.ipynb>data table notebook</a>'\n",
              "            + ' to learn more about interactive tables.';\n",
              "          element.innerHTML = '';\n",
              "          dataTable['output_type'] = 'display_data';\n",
              "          await google.colab.output.renderOutput(dataTable, element);\n",
              "          const docLink = document.createElement('div');\n",
              "          docLink.innerHTML = docLinkHtml;\n",
              "          element.appendChild(docLink);\n",
              "        }\n",
              "      </script>\n",
              "    </div>\n",
              "  </div>\n",
              "  "
            ]
          },
          "metadata": {},
          "execution_count": 219
        }
      ]
    },
    {
      "cell_type": "markdown",
      "source": [
        "#     c) Resolva as inconsistências, se houver.\n",
        "\n"
      ],
      "metadata": {
        "id": "iNbySq4DAQte"
      }
    },
    {
      "cell_type": "markdown",
      "source": [
        "Na minha opinião não houve inconsistências, não após remover ruídos e preencher valores faltantes"
      ],
      "metadata": {
        "id": "xzGeGyRsAXCx"
      }
    },
    {
      "cell_type": "markdown",
      "source": [
        "#      d) Transforme atributos categóricos nominais em um vetor numérico (por exemplo, usando o OneHotEncoder).\n",
        "\n"
      ],
      "metadata": {
        "id": "3cu1cmjcAkSz"
      }
    },
    {
      "cell_type": "code",
      "source": [
        "# Aqui o que faz sentido é a Cabin, pois seria a que repete em algum possivel caso, diferente do nome e do\n",
        "# ticket que são únicos\n",
        "\n",
        "encoder = OneHotEncoder()\n",
        "\n",
        "atributos_categoricos = ['Cabin']\n",
        "atributos_encoded = encoder.fit_transform(dataframe[atributos_categoricos]).toarray()\n",
        "\n",
        "dataframe_encoded = pd.DataFrame(atributos_encoded, columns=encoder.get_feature_names_out(atributos_categoricos))\n",
        "\n",
        "dataframe_encoded.head()"
      ],
      "metadata": {
        "colab": {
          "base_uri": "https://localhost:8080/",
          "height": 314
        },
        "id": "LE7A808KA8n8",
        "outputId": "1ce499d8-4043-42bc-f4b7-2cbbc053b7be"
      },
      "execution_count": 220,
      "outputs": [
        {
          "output_type": "execute_result",
          "data": {
            "text/plain": [
              "   Cabin_A10  Cabin_A14  Cabin_A16  Cabin_A19  Cabin_A20  Cabin_A23  \\\n",
              "0        0.0        0.0        0.0        0.0        0.0        0.0   \n",
              "1        0.0        0.0        0.0        0.0        0.0        0.0   \n",
              "2        0.0        0.0        0.0        0.0        0.0        0.0   \n",
              "3        0.0        0.0        0.0        0.0        0.0        0.0   \n",
              "4        0.0        0.0        0.0        0.0        0.0        0.0   \n",
              "\n",
              "   Cabin_A24  Cabin_A26  Cabin_A31  Cabin_A32  ...  Cabin_E8  Cabin_F E69  \\\n",
              "0        0.0        0.0        0.0        0.0  ...       0.0          0.0   \n",
              "1        0.0        0.0        0.0        0.0  ...       0.0          0.0   \n",
              "2        0.0        0.0        0.0        0.0  ...       0.0          0.0   \n",
              "3        0.0        0.0        0.0        0.0  ...       0.0          0.0   \n",
              "4        0.0        0.0        0.0        0.0  ...       0.0          0.0   \n",
              "\n",
              "   Cabin_F G63  Cabin_F G73  Cabin_F2  Cabin_F33  Cabin_F38  Cabin_F4  \\\n",
              "0          0.0          0.0       0.0        0.0        0.0       0.0   \n",
              "1          0.0          0.0       0.0        0.0        0.0       0.0   \n",
              "2          0.0          0.0       0.0        0.0        0.0       0.0   \n",
              "3          0.0          0.0       0.0        0.0        0.0       0.0   \n",
              "4          0.0          0.0       0.0        0.0        0.0       0.0   \n",
              "\n",
              "   Cabin_G6  Cabin_T  \n",
              "0       0.0      0.0  \n",
              "1       0.0      0.0  \n",
              "2       0.0      0.0  \n",
              "3       0.0      0.0  \n",
              "4       0.0      0.0  \n",
              "\n",
              "[5 rows x 147 columns]"
            ],
            "text/html": [
              "\n",
              "  <div id=\"df-ee98a526-f66b-4224-a877-747f5a9500ba\">\n",
              "    <div class=\"colab-df-container\">\n",
              "      <div>\n",
              "<style scoped>\n",
              "    .dataframe tbody tr th:only-of-type {\n",
              "        vertical-align: middle;\n",
              "    }\n",
              "\n",
              "    .dataframe tbody tr th {\n",
              "        vertical-align: top;\n",
              "    }\n",
              "\n",
              "    .dataframe thead th {\n",
              "        text-align: right;\n",
              "    }\n",
              "</style>\n",
              "<table border=\"1\" class=\"dataframe\">\n",
              "  <thead>\n",
              "    <tr style=\"text-align: right;\">\n",
              "      <th></th>\n",
              "      <th>Cabin_A10</th>\n",
              "      <th>Cabin_A14</th>\n",
              "      <th>Cabin_A16</th>\n",
              "      <th>Cabin_A19</th>\n",
              "      <th>Cabin_A20</th>\n",
              "      <th>Cabin_A23</th>\n",
              "      <th>Cabin_A24</th>\n",
              "      <th>Cabin_A26</th>\n",
              "      <th>Cabin_A31</th>\n",
              "      <th>Cabin_A32</th>\n",
              "      <th>...</th>\n",
              "      <th>Cabin_E8</th>\n",
              "      <th>Cabin_F E69</th>\n",
              "      <th>Cabin_F G63</th>\n",
              "      <th>Cabin_F G73</th>\n",
              "      <th>Cabin_F2</th>\n",
              "      <th>Cabin_F33</th>\n",
              "      <th>Cabin_F38</th>\n",
              "      <th>Cabin_F4</th>\n",
              "      <th>Cabin_G6</th>\n",
              "      <th>Cabin_T</th>\n",
              "    </tr>\n",
              "  </thead>\n",
              "  <tbody>\n",
              "    <tr>\n",
              "      <th>0</th>\n",
              "      <td>0.0</td>\n",
              "      <td>0.0</td>\n",
              "      <td>0.0</td>\n",
              "      <td>0.0</td>\n",
              "      <td>0.0</td>\n",
              "      <td>0.0</td>\n",
              "      <td>0.0</td>\n",
              "      <td>0.0</td>\n",
              "      <td>0.0</td>\n",
              "      <td>0.0</td>\n",
              "      <td>...</td>\n",
              "      <td>0.0</td>\n",
              "      <td>0.0</td>\n",
              "      <td>0.0</td>\n",
              "      <td>0.0</td>\n",
              "      <td>0.0</td>\n",
              "      <td>0.0</td>\n",
              "      <td>0.0</td>\n",
              "      <td>0.0</td>\n",
              "      <td>0.0</td>\n",
              "      <td>0.0</td>\n",
              "    </tr>\n",
              "    <tr>\n",
              "      <th>1</th>\n",
              "      <td>0.0</td>\n",
              "      <td>0.0</td>\n",
              "      <td>0.0</td>\n",
              "      <td>0.0</td>\n",
              "      <td>0.0</td>\n",
              "      <td>0.0</td>\n",
              "      <td>0.0</td>\n",
              "      <td>0.0</td>\n",
              "      <td>0.0</td>\n",
              "      <td>0.0</td>\n",
              "      <td>...</td>\n",
              "      <td>0.0</td>\n",
              "      <td>0.0</td>\n",
              "      <td>0.0</td>\n",
              "      <td>0.0</td>\n",
              "      <td>0.0</td>\n",
              "      <td>0.0</td>\n",
              "      <td>0.0</td>\n",
              "      <td>0.0</td>\n",
              "      <td>0.0</td>\n",
              "      <td>0.0</td>\n",
              "    </tr>\n",
              "    <tr>\n",
              "      <th>2</th>\n",
              "      <td>0.0</td>\n",
              "      <td>0.0</td>\n",
              "      <td>0.0</td>\n",
              "      <td>0.0</td>\n",
              "      <td>0.0</td>\n",
              "      <td>0.0</td>\n",
              "      <td>0.0</td>\n",
              "      <td>0.0</td>\n",
              "      <td>0.0</td>\n",
              "      <td>0.0</td>\n",
              "      <td>...</td>\n",
              "      <td>0.0</td>\n",
              "      <td>0.0</td>\n",
              "      <td>0.0</td>\n",
              "      <td>0.0</td>\n",
              "      <td>0.0</td>\n",
              "      <td>0.0</td>\n",
              "      <td>0.0</td>\n",
              "      <td>0.0</td>\n",
              "      <td>0.0</td>\n",
              "      <td>0.0</td>\n",
              "    </tr>\n",
              "    <tr>\n",
              "      <th>3</th>\n",
              "      <td>0.0</td>\n",
              "      <td>0.0</td>\n",
              "      <td>0.0</td>\n",
              "      <td>0.0</td>\n",
              "      <td>0.0</td>\n",
              "      <td>0.0</td>\n",
              "      <td>0.0</td>\n",
              "      <td>0.0</td>\n",
              "      <td>0.0</td>\n",
              "      <td>0.0</td>\n",
              "      <td>...</td>\n",
              "      <td>0.0</td>\n",
              "      <td>0.0</td>\n",
              "      <td>0.0</td>\n",
              "      <td>0.0</td>\n",
              "      <td>0.0</td>\n",
              "      <td>0.0</td>\n",
              "      <td>0.0</td>\n",
              "      <td>0.0</td>\n",
              "      <td>0.0</td>\n",
              "      <td>0.0</td>\n",
              "    </tr>\n",
              "    <tr>\n",
              "      <th>4</th>\n",
              "      <td>0.0</td>\n",
              "      <td>0.0</td>\n",
              "      <td>0.0</td>\n",
              "      <td>0.0</td>\n",
              "      <td>0.0</td>\n",
              "      <td>0.0</td>\n",
              "      <td>0.0</td>\n",
              "      <td>0.0</td>\n",
              "      <td>0.0</td>\n",
              "      <td>0.0</td>\n",
              "      <td>...</td>\n",
              "      <td>0.0</td>\n",
              "      <td>0.0</td>\n",
              "      <td>0.0</td>\n",
              "      <td>0.0</td>\n",
              "      <td>0.0</td>\n",
              "      <td>0.0</td>\n",
              "      <td>0.0</td>\n",
              "      <td>0.0</td>\n",
              "      <td>0.0</td>\n",
              "      <td>0.0</td>\n",
              "    </tr>\n",
              "  </tbody>\n",
              "</table>\n",
              "<p>5 rows × 147 columns</p>\n",
              "</div>\n",
              "      <button class=\"colab-df-convert\" onclick=\"convertToInteractive('df-ee98a526-f66b-4224-a877-747f5a9500ba')\"\n",
              "              title=\"Convert this dataframe to an interactive table.\"\n",
              "              style=\"display:none;\">\n",
              "        \n",
              "  <svg xmlns=\"http://www.w3.org/2000/svg\" height=\"24px\"viewBox=\"0 0 24 24\"\n",
              "       width=\"24px\">\n",
              "    <path d=\"M0 0h24v24H0V0z\" fill=\"none\"/>\n",
              "    <path d=\"M18.56 5.44l.94 2.06.94-2.06 2.06-.94-2.06-.94-.94-2.06-.94 2.06-2.06.94zm-11 1L8.5 8.5l.94-2.06 2.06-.94-2.06-.94L8.5 2.5l-.94 2.06-2.06.94zm10 10l.94 2.06.94-2.06 2.06-.94-2.06-.94-.94-2.06-.94 2.06-2.06.94z\"/><path d=\"M17.41 7.96l-1.37-1.37c-.4-.4-.92-.59-1.43-.59-.52 0-1.04.2-1.43.59L10.3 9.45l-7.72 7.72c-.78.78-.78 2.05 0 2.83L4 21.41c.39.39.9.59 1.41.59.51 0 1.02-.2 1.41-.59l7.78-7.78 2.81-2.81c.8-.78.8-2.07 0-2.86zM5.41 20L4 18.59l7.72-7.72 1.47 1.35L5.41 20z\"/>\n",
              "  </svg>\n",
              "      </button>\n",
              "      \n",
              "  <style>\n",
              "    .colab-df-container {\n",
              "      display:flex;\n",
              "      flex-wrap:wrap;\n",
              "      gap: 12px;\n",
              "    }\n",
              "\n",
              "    .colab-df-convert {\n",
              "      background-color: #E8F0FE;\n",
              "      border: none;\n",
              "      border-radius: 50%;\n",
              "      cursor: pointer;\n",
              "      display: none;\n",
              "      fill: #1967D2;\n",
              "      height: 32px;\n",
              "      padding: 0 0 0 0;\n",
              "      width: 32px;\n",
              "    }\n",
              "\n",
              "    .colab-df-convert:hover {\n",
              "      background-color: #E2EBFA;\n",
              "      box-shadow: 0px 1px 2px rgba(60, 64, 67, 0.3), 0px 1px 3px 1px rgba(60, 64, 67, 0.15);\n",
              "      fill: #174EA6;\n",
              "    }\n",
              "\n",
              "    [theme=dark] .colab-df-convert {\n",
              "      background-color: #3B4455;\n",
              "      fill: #D2E3FC;\n",
              "    }\n",
              "\n",
              "    [theme=dark] .colab-df-convert:hover {\n",
              "      background-color: #434B5C;\n",
              "      box-shadow: 0px 1px 3px 1px rgba(0, 0, 0, 0.15);\n",
              "      filter: drop-shadow(0px 1px 2px rgba(0, 0, 0, 0.3));\n",
              "      fill: #FFFFFF;\n",
              "    }\n",
              "  </style>\n",
              "\n",
              "      <script>\n",
              "        const buttonEl =\n",
              "          document.querySelector('#df-ee98a526-f66b-4224-a877-747f5a9500ba button.colab-df-convert');\n",
              "        buttonEl.style.display =\n",
              "          google.colab.kernel.accessAllowed ? 'block' : 'none';\n",
              "\n",
              "        async function convertToInteractive(key) {\n",
              "          const element = document.querySelector('#df-ee98a526-f66b-4224-a877-747f5a9500ba');\n",
              "          const dataTable =\n",
              "            await google.colab.kernel.invokeFunction('convertToInteractive',\n",
              "                                                     [key], {});\n",
              "          if (!dataTable) return;\n",
              "\n",
              "          const docLinkHtml = 'Like what you see? Visit the ' +\n",
              "            '<a target=\"_blank\" href=https://colab.research.google.com/notebooks/data_table.ipynb>data table notebook</a>'\n",
              "            + ' to learn more about interactive tables.';\n",
              "          element.innerHTML = '';\n",
              "          dataTable['output_type'] = 'display_data';\n",
              "          await google.colab.output.renderOutput(dataTable, element);\n",
              "          const docLink = document.createElement('div');\n",
              "          docLink.innerHTML = docLinkHtml;\n",
              "          element.appendChild(docLink);\n",
              "        }\n",
              "      </script>\n",
              "    </div>\n",
              "  </div>\n",
              "  "
            ]
          },
          "metadata": {},
          "execution_count": 220
        }
      ]
    },
    {
      "cell_type": "markdown",
      "source": [
        "# e) Transforme atributos categóricos ordinais em atributos numéricos seguindo a ordem entre eles.\n",
        "\n",
        "\n",
        "\n"
      ],
      "metadata": {
        "id": "Qw3TdydyCc-z"
      }
    },
    {
      "cell_type": "code",
      "source": [
        "train_path = dataframe.sort_values(by='Pclass').reset_index(drop=True)\n",
        "\n",
        "print(\"train_path:\")\n",
        "print(train_path['Pclass']) "
      ],
      "metadata": {
        "colab": {
          "base_uri": "https://localhost:8080/"
        },
        "id": "zWPVy7iUDASD",
        "outputId": "22b14f3a-c711-44df-e2c3-c6178d08051e"
      },
      "execution_count": 222,
      "outputs": [
        {
          "output_type": "stream",
          "name": "stdout",
          "text": [
            "train_path:\n",
            "0      1\n",
            "1      1\n",
            "2      1\n",
            "3      1\n",
            "4      1\n",
            "      ..\n",
            "886    3\n",
            "887    3\n",
            "888    3\n",
            "889    3\n",
            "890    3\n",
            "Name: Pclass, Length: 891, dtype: int64\n"
          ]
        }
      ]
    },
    {
      "cell_type": "markdown",
      "source": [
        "# f) Normalize os valores de atributos numéricos.\n",
        "\n"
      ],
      "metadata": {
        "id": "S9oJnV6lDRm_"
      }
    },
    {
      "cell_type": "code",
      "source": [
        "atributos_numericos = ['Age', 'Fare']\n",
        "\n",
        "scaler = MinMaxScaler()\n",
        "\n",
        "dataframe[atributos_numericos] = scaler.fit_transform(dataframe[atributos_numericos])\n",
        "\n",
        "print(\"train_path:\")\n",
        "print(dataframe.head()) "
      ],
      "metadata": {
        "colab": {
          "base_uri": "https://localhost:8080/"
        },
        "id": "GNPnVA5HDWKV",
        "outputId": "68faab8c-d129-4621-d9ea-be01d27c7a45"
      },
      "execution_count": 225,
      "outputs": [
        {
          "output_type": "stream",
          "name": "stdout",
          "text": [
            "train_path:\n",
            "   PassengerId  Survived  Pclass  \\\n",
            "0            1         0       3   \n",
            "1            2         1       1   \n",
            "2            3         1       3   \n",
            "3            4         1       1   \n",
            "4            5         0       3   \n",
            "\n",
            "                                                Name     Sex       Age  SibSp  \\\n",
            "0                            Braund, Mr. Owen Harris    male  0.271174      1   \n",
            "1  Cumings, Mrs. John Bradley (Florence Briggs Th...  female  0.472229      1   \n",
            "2                             Heikkinen, Miss. Laina  female  0.321438      0   \n",
            "3       Futrelle, Mrs. Jacques Heath (Lily May Peel)  female  0.434531      1   \n",
            "4                           Allen, Mr. William Henry    male  0.434531      0   \n",
            "\n",
            "   Parch            Ticket      Fare Cabin Embarked  \n",
            "0      0         A/5 21171  0.014151   NaN        S  \n",
            "1      0          PC 17599  0.139136   C85        C  \n",
            "2      0  STON/O2. 3101282  0.015469   NaN        S  \n",
            "3      0            113803  0.103644  C123        S  \n",
            "4      0            373450  0.015713   NaN        S  \n"
          ]
        }
      ]
    }
  ]
}